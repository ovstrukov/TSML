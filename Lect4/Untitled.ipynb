{
 "cells": [
  {
   "cell_type": "code",
   "execution_count": 2,
   "id": "bec78c28",
   "metadata": {},
   "outputs": [],
   "source": [
    "import pandas as pd\n",
    "import numpy as np"
   ]
  },
  {
   "cell_type": "code",
   "execution_count": 3,
   "id": "85f99300",
   "metadata": {},
   "outputs": [],
   "source": [
    "series = pd.read_csv(\"monthly-car-sales-in-quebec-1960.csv\")[\"Count\"]"
   ]
  },
  {
   "cell_type": "code",
   "execution_count": 4,
   "id": "b05bcb33",
   "metadata": {},
   "outputs": [
    {
     "data": {
      "text/plain": [
       "0       6550\n",
       "1       8728\n",
       "2      12026\n",
       "3      14395\n",
       "4      14587\n",
       "       ...  \n",
       "103    16722\n",
       "104    14385\n",
       "105    21342\n",
       "106    17180\n",
       "107    14577\n",
       "Name: Count, Length: 108, dtype: int64"
      ]
     },
     "execution_count": 4,
     "metadata": {},
     "output_type": "execute_result"
    }
   ],
   "source": [
    "series"
   ]
  },
  {
   "cell_type": "code",
   "execution_count": 5,
   "id": "5917f9d1",
   "metadata": {},
   "outputs": [],
   "source": [
    "series1 = np.array(series[1:]) - np.array(series[:-1])"
   ]
  },
  {
   "cell_type": "code",
   "execution_count": 6,
   "id": "4fe8b2df",
   "metadata": {},
   "outputs": [
    {
     "data": {
      "text/plain": [
       "array([ 2178,  3298,  2369,   192,  -796, -4293, -1247, -1202,  2496,\n",
       "        -181,  -908, -1219,  2137,  2463,  1947,  2142, -2105, -2678,\n",
       "       -3168,  -365,  2405,  2744, -3943,  1861,   270,  4253,  1810,\n",
       "        3890, -4695, -4062, -3146, -3429,  5906,   782, -1673,   279,\n",
       "         103,  3440,  5974,  -251, -2312, -5548, -3626,  -680,  5970,\n",
       "        2004, -3308,  -361,   203,  6474,  2315,   756, -3434, -3406,\n",
       "       -4869,   486,  3960,  -998, -2016,   443,   784,  7025,  3135,\n",
       "         416, -2294, -6058,  -422, -3872,  6235,   567, -1086, -3937,\n",
       "          86,  7489,  1886, -1458,  -744, -4545,  -275, -1712,  2734,\n",
       "        1427, -2842, -2495,  -617,  9377, -1293,  4389, -1967, -7894,\n",
       "        -786,   164,  3589, -1068, -2406,  -503,  1041,  5888,  1586,\n",
       "        4374, -5015, -3060, -1302, -2337,  6957, -4162, -2603],\n",
       "      dtype=int64)"
      ]
     },
     "execution_count": 6,
     "metadata": {},
     "output_type": "execute_result"
    }
   ],
   "source": [
    "series1"
   ]
  },
  {
   "cell_type": "code",
   "execution_count": 8,
   "id": "301cef86",
   "metadata": {},
   "outputs": [
    {
     "data": {
      "text/plain": [
       "array([ 6550,  8728, 12026, 14395, 14587, 13791,  9498,  8251,  7049,\n",
       "        9545,  9364,  8456,  7237,  9374, 11837, 13784, 15926, 13821,\n",
       "       11143,  7975,  7610, 10015, 12759,  8816, 10677, 10947, 15200,\n",
       "       17010, 20900, 16205, 12143,  8997,  5568, 11474, 12256, 10583,\n",
       "       10862, 10965, 14405, 20379, 20128, 17816, 12268,  8642,  7962,\n",
       "       13932, 15936, 12628, 12267, 12470, 18944, 21259, 22015, 18581,\n",
       "       15175, 10306, 10792, 14752, 13754, 11738, 12181, 12965, 19990,\n",
       "       23125, 23541, 21247, 15189, 14767, 10895, 17130, 17697, 16611,\n",
       "       12674, 12760, 20249, 22135, 20677, 19933, 15388, 15113, 13401,\n",
       "       16135, 17562, 14720, 12225, 11608, 20985, 19692, 24081, 22114,\n",
       "       14220, 13434, 13598, 17187, 16119, 13713, 13210, 14251, 20139,\n",
       "       21725, 26099, 21084, 18024, 16722, 14385, 21342, 17180, 14577],\n",
       "      dtype=int64)"
      ]
     },
     "execution_count": 8,
     "metadata": {},
     "output_type": "execute_result"
    }
   ],
   "source": [
    "np.array(series)"
   ]
  },
  {
   "cell_type": "code",
   "execution_count": null,
   "id": "bd8e0b20",
   "metadata": {},
   "outputs": [],
   "source": []
  }
 ],
 "metadata": {
  "kernelspec": {
   "display_name": "Python 3",
   "language": "python",
   "name": "python3"
  },
  "language_info": {
   "codemirror_mode": {
    "name": "ipython",
    "version": 3
   },
   "file_extension": ".py",
   "mimetype": "text/x-python",
   "name": "python",
   "nbconvert_exporter": "python",
   "pygments_lexer": "ipython3",
   "version": "3.8.8"
  }
 },
 "nbformat": 4,
 "nbformat_minor": 5
}
